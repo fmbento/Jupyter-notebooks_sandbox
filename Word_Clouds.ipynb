{
  "nbformat": 4,
  "nbformat_minor": 0,
  "metadata": {
    "kernelspec": {
      "display_name": "Python 3",
      "language": "python",
      "name": "python3"
    },
    "language_info": {
      "codemirror_mode": {
        "name": "ipython",
        "version": 3
      },
      "file_extension": ".py",
      "mimetype": "text/x-python",
      "name": "python",
      "nbconvert_exporter": "python",
      "pygments_lexer": "ipython3",
      "version": "3.7.3"
    },
    "colab": {
      "name": "Word_Clouds.ipynb",
      "provenance": [],
      "include_colab_link": true
    }
  },
  "cells": [
    {
      "cell_type": "markdown",
      "metadata": {
        "id": "view-in-github",
        "colab_type": "text"
      },
      "source": [
        "<a href=\"https://colab.research.google.com/github/fmbento/Jupyter_Notebooks_sandbox/blob/master/Word_Clouds.ipynb\" target=\"_parent\"><img src=\"https://colab.research.google.com/assets/colab-badge.svg\" alt=\"Open In Colab\"/></a>"
      ]
    },
    {
      "cell_type": "code",
      "metadata": {
        "id": "ijoBQrZ-gwZL",
        "colab_type": "code",
        "outputId": "f58506b1-0917-49ff-94ed-74a2c0aeb73c",
        "colab": {
          "base_uri": "https://localhost:8080/",
          "height": 323
        }
      },
      "source": [
        "# run the first time only\n",
        "#Install Word_Cloud from GitHub repo\n",
        "#do not use pip install git+ssh://git@github.com/kavgan/word_cloud.git -- it will time out on SSH (port 22), use HTTPS instead\n",
        "!pip install git+https://git@github.com/kavgan/word_cloud.git"
      ],
      "execution_count": 1,
      "outputs": [
        {
          "output_type": "stream",
          "text": [
            "Collecting git+https://****@github.com/kavgan/word_cloud.git\n",
            "  Cloning https://****@github.com/kavgan/word_cloud.git to /tmp/pip-req-build-d_1pp6b8\n",
            "  Running command git clone -q 'https://****@github.com/kavgan/word_cloud.git' /tmp/pip-req-build-d_1pp6b8\n",
            "Requirement already satisfied: scikit-learn>=0.19.1 in /usr/local/lib/python3.6/dist-packages (from word-cloud==0.0.0) (0.22.2.post1)\n",
            "Requirement already satisfied: pandas>=0.20.3 in /usr/local/lib/python3.6/dist-packages (from word-cloud==0.0.0) (1.0.3)\n",
            "Requirement already satisfied: scipy>=0.17.0 in /usr/local/lib/python3.6/dist-packages (from scikit-learn>=0.19.1->word-cloud==0.0.0) (1.4.1)\n",
            "Requirement already satisfied: numpy>=1.11.0 in /usr/local/lib/python3.6/dist-packages (from scikit-learn>=0.19.1->word-cloud==0.0.0) (1.18.4)\n",
            "Requirement already satisfied: joblib>=0.11 in /usr/local/lib/python3.6/dist-packages (from scikit-learn>=0.19.1->word-cloud==0.0.0) (0.14.1)\n",
            "Requirement already satisfied: python-dateutil>=2.6.1 in /usr/local/lib/python3.6/dist-packages (from pandas>=0.20.3->word-cloud==0.0.0) (2.8.1)\n",
            "Requirement already satisfied: pytz>=2017.2 in /usr/local/lib/python3.6/dist-packages (from pandas>=0.20.3->word-cloud==0.0.0) (2018.9)\n",
            "Requirement already satisfied: six>=1.5 in /usr/local/lib/python3.6/dist-packages (from python-dateutil>=2.6.1->pandas>=0.20.3->word-cloud==0.0.0) (1.12.0)\n",
            "Building wheels for collected packages: word-cloud\n",
            "  Building wheel for word-cloud (setup.py) ... \u001b[?25l\u001b[?25hdone\n",
            "  Created wheel for word-cloud: filename=word_cloud-0.0.0-cp36-none-any.whl size=5890 sha256=42f2215a68f70e6682115548c9e08579aec2ccdb5ee54c14c0350face3f169ef\n",
            "  Stored in directory: /tmp/pip-ephem-wheel-cache-zisemfqx/wheels/d6/98/5f/8e001af2b4fb7852176a75f82de076b6515ee0fd298416fd01\n",
            "Successfully built word-cloud\n",
            "Installing collected packages: word-cloud\n",
            "Successfully installed word-cloud-0.0.0\n"
          ],
          "name": "stdout"
        }
      ]
    },
    {
      "cell_type": "code",
      "metadata": {
        "id": "jheBqEDrgwZk",
        "colab_type": "code",
        "outputId": "3d651370-ef3b-459b-e31e-52b1e4b5864c",
        "colab": {
          "base_uri": "https://localhost:8080/",
          "height": 85
        }
      },
      "source": [
        "# run the first time only\n",
        "!pip install nltk\n",
        "\n",
        "from word_cloud.word_cloud_generator import WordCloud \n",
        "from IPython.core.display import HTML\n",
        "from nltk.corpus import reuters\n",
        "import nltk\n",
        " \n",
        "ENGLISH_STOP_WORDS = frozenset([\n",
        "    \"a\", \"about\", \"above\", \"across\", \"after\", \"afterwards\", \"again\", \"against\",\n",
        "    \"all\", \"almost\", \"alone\", \"along\", \"already\", \"also\", \"although\", \"always\",\n",
        "    \"am\", \"among\", \"amongst\", \"amoungst\", \"amount\", \"an\", \"and\", \"another\",\n",
        "    \"any\", \"anyhow\", \"anyone\", \"anything\", \"anyway\", \"anywhere\", \"are\",\n",
        "    \"around\", \"as\", \"at\", \"back\", \"be\", \"became\", \"because\", \"become\",\n",
        "    \"becomes\", \"becoming\", \"been\", \"before\", \"beforehand\", \"behind\", \"being\",\n",
        "    \"below\", \"beside\", \"besides\", \"between\", \"beyond\", \"bill\", \"both\",\n",
        "    \"bottom\", \"but\", \"by\", \"call\", \"can\", \"cannot\", \"cant\", \"co\", \"con\",\n",
        "    \"could\", \"couldnt\", \"cry\", \"de\", \"describe\", \"detail\", \"do\", \"done\",\n",
        "    \"down\", \"due\", \"during\", \"each\", \"eg\", \"eight\", \"either\", \"eleven\", \"else\",\n",
        "    \"elsewhere\", \"empty\", \"enough\", \"etc\", \"even\", \"ever\", \"every\", \"everyone\",\n",
        "    \"everything\", \"everywhere\", \"except\", \"few\", \"fifteen\", \"fifty\", \"fill\",\n",
        "    \"find\", \"fire\", \"first\", \"five\", \"for\", \"former\", \"formerly\", \"forty\",\n",
        "    \"found\", \"four\", \"from\", \"front\", \"full\", \"further\", \"get\", \"give\", \"go\",\n",
        "    \"had\", \"has\", \"hasnt\", \"have\", \"he\", \"hence\", \"her\", \"here\", \"hereafter\",\n",
        "    \"hereby\", \"herein\", \"hereupon\", \"hers\", \"herself\", \"him\", \"himself\", \"his\",\n",
        "    \"how\", \"however\", \"hundred\", \"i\", \"ie\", \"if\", \"in\", \"inc\", \"indeed\",\n",
        "    \"interest\", \"into\", \"is\", \"it\", \"its\", \"itself\", \"keep\", \"last\", \"latter\",\n",
        "    \"latterly\", \"least\", \"less\", \"ltd\", \"made\", \"many\", \"may\", \"me\",\n",
        "    \"meanwhile\", \"might\", \"mill\", \"mine\", \"more\", \"moreover\", \"most\", \"mostly\",\n",
        "    \"move\", \"much\", \"must\", \"my\", \"myself\", \"name\", \"namely\", \"neither\",\n",
        "    \"never\", \"nevertheless\", \"next\", \"nine\", \"no\", \"nobody\", \"none\", \"noone\",\n",
        "    \"nor\", \"not\", \"nothing\", \"now\", \"nowhere\", \"of\", \"off\", \"often\", \"on\",\n",
        "    \"once\", \"one\", \"only\", \"onto\", \"or\", \"other\", \"others\", \"otherwise\", \"our\",\n",
        "    \"ours\", \"ourselves\", \"out\", \"over\", \"own\", \"part\", \"per\", \"perhaps\",\n",
        "    \"please\", \"put\", \"rather\", \"re\", \"same\", \"see\", \"seem\", \"seemed\",\n",
        "    \"seeming\", \"seems\", \"serious\", \"several\", \"she\", \"should\", \"show\", \"side\",\n",
        "    \"since\", \"sincere\", \"six\", \"sixty\", \"so\", \"some\", \"somehow\", \"someone\",\n",
        "    \"something\", \"sometime\", \"sometimes\", \"somewhere\", \"still\", \"such\",\n",
        "    \"system\", \"take\", \"ten\", \"than\", \"that\", \"the\", \"their\", \"them\",\n",
        "    \"themselves\", \"then\", \"thence\", \"there\", \"thereafter\", \"thereby\",\n",
        "    \"therefore\", \"therein\", \"thereupon\", \"these\", \"they\", \"thick\", \"thin\",\n",
        "    \"third\", \"this\", \"those\", \"though\", \"three\", \"through\", \"throughout\",\n",
        "    \"thru\", \"thus\", \"to\", \"together\", \"too\", \"top\", \"toward\", \"towards\",\n",
        "    \"twelve\", \"twenty\", \"two\", \"un\", \"under\", \"until\", \"up\", \"upon\", \"us\",\n",
        "    \"very\", \"via\", \"was\", \"we\", \"well\", \"were\", \"what\", \"whatever\", \"when\",\n",
        "    \"whence\", \"whenever\", \"where\", \"whereafter\", \"whereas\", \"whereby\",\n",
        "    \"wherein\", \"whereupon\", \"wherever\", \"whether\", \"which\", \"while\", \"whither\",\n",
        "    \"who\", \"whoever\", \"whole\", \"whom\", \"whose\", \"why\", \"will\", \"with\",\n",
        "    \"within\", \"without\", \"would\", \"yet\", \"said\",\"you\", \"your\", \"yours\", \"yourself\",\n",
        "    \"yourselves\"])\n",
        "    \n",
        "wc=WordCloud(use_tfidf=False,stopwords=ENGLISH_STOP_WORDS)\n",
        " \n",
        "nltk.download('reuters')"
      ],
      "execution_count": 4,
      "outputs": [
        {
          "output_type": "stream",
          "text": [
            "Requirement already satisfied: nltk in /usr/local/lib/python3.6/dist-packages (3.2.5)\n",
            "Requirement already satisfied: six in /usr/local/lib/python3.6/dist-packages (from nltk) (1.12.0)\n",
            "[nltk_data] Downloading package reuters to /root/nltk_data...\n"
          ],
          "name": "stdout"
        },
        {
          "output_type": "execute_result",
          "data": {
            "text/plain": [
              "True"
            ]
          },
          "metadata": {
            "tags": []
          },
          "execution_count": 4
        }
      ]
    },
    {
      "cell_type": "code",
      "metadata": {
        "id": "khEY7TWBgwZw",
        "colab_type": "code",
        "outputId": "52a8108c-d5aa-4ba9-fc5d-60430b93313b",
        "colab": {
          "base_uri": "https://localhost:8080/",
          "height": 1000
        }
      },
      "source": [
        "# List all the possible categories that we can filter for\n",
        "reuters.categories()"
      ],
      "execution_count": 0,
      "outputs": [
        {
          "output_type": "execute_result",
          "data": {
            "text/plain": [
              "['acq',\n",
              " 'alum',\n",
              " 'barley',\n",
              " 'bop',\n",
              " 'carcass',\n",
              " 'castor-oil',\n",
              " 'cocoa',\n",
              " 'coconut',\n",
              " 'coconut-oil',\n",
              " 'coffee',\n",
              " 'copper',\n",
              " 'copra-cake',\n",
              " 'corn',\n",
              " 'cotton',\n",
              " 'cotton-oil',\n",
              " 'cpi',\n",
              " 'cpu',\n",
              " 'crude',\n",
              " 'dfl',\n",
              " 'dlr',\n",
              " 'dmk',\n",
              " 'earn',\n",
              " 'fuel',\n",
              " 'gas',\n",
              " 'gnp',\n",
              " 'gold',\n",
              " 'grain',\n",
              " 'groundnut',\n",
              " 'groundnut-oil',\n",
              " 'heat',\n",
              " 'hog',\n",
              " 'housing',\n",
              " 'income',\n",
              " 'instal-debt',\n",
              " 'interest',\n",
              " 'ipi',\n",
              " 'iron-steel',\n",
              " 'jet',\n",
              " 'jobs',\n",
              " 'l-cattle',\n",
              " 'lead',\n",
              " 'lei',\n",
              " 'lin-oil',\n",
              " 'livestock',\n",
              " 'lumber',\n",
              " 'meal-feed',\n",
              " 'money-fx',\n",
              " 'money-supply',\n",
              " 'naphtha',\n",
              " 'nat-gas',\n",
              " 'nickel',\n",
              " 'nkr',\n",
              " 'nzdlr',\n",
              " 'oat',\n",
              " 'oilseed',\n",
              " 'orange',\n",
              " 'palladium',\n",
              " 'palm-oil',\n",
              " 'palmkernel',\n",
              " 'pet-chem',\n",
              " 'platinum',\n",
              " 'potato',\n",
              " 'propane',\n",
              " 'rand',\n",
              " 'rape-oil',\n",
              " 'rapeseed',\n",
              " 'reserves',\n",
              " 'retail',\n",
              " 'rice',\n",
              " 'rubber',\n",
              " 'rye',\n",
              " 'ship',\n",
              " 'silver',\n",
              " 'sorghum',\n",
              " 'soy-meal',\n",
              " 'soy-oil',\n",
              " 'soybean',\n",
              " 'strategic-metal',\n",
              " 'sugar',\n",
              " 'sun-meal',\n",
              " 'sun-oil',\n",
              " 'sunseed',\n",
              " 'tea',\n",
              " 'tin',\n",
              " 'trade',\n",
              " 'veg-oil',\n",
              " 'wheat',\n",
              " 'wpi',\n",
              " 'yen',\n",
              " 'zinc']"
            ]
          },
          "metadata": {
            "tags": []
          },
          "execution_count": 3
        }
      ]
    },
    {
      "cell_type": "code",
      "metadata": {
        "id": "u0fLLwyqmatF",
        "colab_type": "code",
        "colab": {
          "base_uri": "https://localhost:8080/",
          "height": 54
        },
        "outputId": "cff3944a-f422-4c7a-d0e0-c8404e630abe"
      },
      "source": [
        "#get all articles related to sugar (try also \"coffee\", \"corn\", etc..)\n",
        "category_docs = reuters.fileids(\"sugar\");\n",
        "\n",
        "#Let's check one of these articles, #28 for instance:\n",
        "\n",
        "document_id = category_docs[28]\n",
        "reuters.raw(document_id)"
      ],
      "execution_count": 10,
      "outputs": [
        {
          "output_type": "execute_result",
          "data": {
            "text/plain": [
              "'COLD, WET WEATHER SLOWS BEET GROWTH IN W. EUROPE\\n  Cold and wet weather in northern,\\n  western and central parts of Europe continued to slow beet\\n  growth but plant density is reported to be good in most\\n  countries, sugar statistician F.O. Licht said.\\n      Temperatures were too low for the season and the rain has\\n  hampered field work and occasionally led to water-logged\\n  fields.\\n      But in eastern and southeastern Europe, warmer weather has\\n  boosted sugar beet growth.\\n      Weather in the Soviet Union also allowed good beet\\n  development, Licht said.\\n      In Sweden beet growth has been delayed, although plant\\n  population is reported to be regular and good. Cool and rainy\\n  weather slowed beet growth in Denmark and crop prospects are\\n  rated as slightly below normal.\\n      In the United Kingdom and Ireland, it was rather cool with\\n  heavy rainfall in places which has delayed beet growth.\\n      In France, Belgium, the Netherlands, and West Germany, it\\n  was mostly cool with frequent and often heavy rainfall which\\n  continued to slow down beet growth and often made field work\\n  impossible.\\n      In Austria, it was warm with some rainfall, which was\\n  favourable for beet growth, Licht said.\\n      In Czechoslovakia and Poland, it was mostly warm, favouring\\n  beet development. but some heavy rain may have caused damage.\\n      In the European beet growing regions of the Soviet Union,\\n  it was warm with showers over most areas and weather was\\n  generally good for the emergence and growth of beets.\\n      In south eastern Europe, warm weather with some rainfall\\n  boosted beet development.\\n      Labour trouble threatens the beet crop in Spain. Disputes\\n  between the factories and the trade unions are threatening to\\n  delay the start of processing in the southern areas, where\\n  beets are maturing very early this year.\\n  \\n\\n'"
            ]
          },
          "metadata": {
            "tags": []
          },
          "execution_count": 10
        }
      ]
    },
    {
      "cell_type": "code",
      "metadata": {
        "id": "_whe21-InQ1n",
        "colab_type": "code",
        "colab": {
          "base_uri": "https://localhost:8080/",
          "height": 311
        },
        "outputId": "30f707a9-0dbc-4148-fab8-90359a1ca8a7"
      },
      "source": [
        "# Generate a Word Cloud from that record\n",
        "\n",
        "list_of_documents=[]\n",
        "\n",
        "list_of_documents.append(reuters.raw(document_id))\n",
        "\n",
        "embed_code=wc.get_embed_code(text=list_of_documents,random_color=True,topn=50)\n",
        "\n",
        "HTML(embed_code)"
      ],
      "execution_count": 9,
      "outputs": [
        {
          "output_type": "execute_result",
          "data": {
            "text/html": [
              "<div align='center' style='width:100%'><div align='center' style='text-align:justify; border-radius: 25px;background: #fff7f7;overflow: auto; width:500px !important; padding:20px; '; text-align: center; word-wrap: break-word;> <span style='color:#00b4ff;font-size:0.8em;white-space: normal;font-family:verdana;display: inline-block;line-height:30px'>water&nbsp;</span> <span style='color:#00b4ff;font-size:0.8em;white-space: normal;font-family:verdana;display: inline-block;line-height:30px'>southeastern&nbsp;</span> <span style='color:#8000FF;font-size:1.5499999999999998em;white-space: normal;font-family:verdana;display: inline-block;line-height:30px'>warm&nbsp;</span> <span style='color:#008080;font-size:2.599999999999999em;white-space: normal;font-family:verdana;display: inline-block;line-height:30px'>growth&nbsp;</span> <span style='color:#5882FA;font-size:1.1em;white-space: normal;font-family:verdana;display: inline-block;line-height:30px'>boosted&nbsp;</span> <span style='color:#00b4ff;font-size:0.8em;white-space: normal;font-family:verdana;display: inline-block;line-height:30px'>slows&nbsp;</span> <span style='color:#00b4ff;font-size:0.8em;white-space: normal;font-family:verdana;display: inline-block;line-height:30px'>trade&nbsp;</span> <span style='color:#5882FA;font-size:1.1em;white-space: normal;font-family:verdana;display: inline-block;line-height:30px'>areas&nbsp;</span> <span style='color:#00b4ff;font-size:0.8em;white-space: normal;font-family:verdana;display: inline-block;line-height:30px'>threatening&nbsp;</span> <span style='color:#5882FA;font-size:1.1em;white-space: normal;font-family:verdana;display: inline-block;line-height:30px'>union&nbsp;</span> <span style='color:#00b4ff;font-size:0.8em;white-space: normal;font-family:verdana;display: inline-block;line-height:30px'>threatens&nbsp;</span> <span style='color:#5882FA;font-size:1.1em;white-space: normal;font-family:verdana;display: inline-block;line-height:30px'>slow&nbsp;</span> <span style='color:#FF0080;font-size:1.25em;white-space: normal;font-family:verdana;display: inline-block;line-height:30px'>development&nbsp;</span> <span style='color:#00b4ff;font-size:0.8em;white-space: normal;font-family:verdana;display: inline-block;line-height:30px'>warmer&nbsp;</span> <span style='color:#FF0080;font-size:1.25em;white-space: normal;font-family:verdana;display: inline-block;line-height:30px'>cool&nbsp;</span> <span style='color:#5882FA;font-size:1.1em;white-space: normal;font-family:verdana;display: inline-block;line-height:30px'>beets&nbsp;</span> <span style='color:#00b4ff;font-size:0.8em;white-space: normal;font-family:verdana;display: inline-block;line-height:30px'>spain&nbsp;</span> <span style='color:#00b4ff;font-size:0.8em;white-space: normal;font-family:verdana;display: inline-block;line-height:30px'>unions&nbsp;</span> <span style='color:#5882FA;font-size:1.1em;white-space: normal;font-family:verdana;display: inline-block;line-height:30px'>sugar&nbsp;</span> <span style='color:#5882FA;font-size:1.1em;white-space: normal;font-family:verdana;display: inline-block;line-height:30px'>work&nbsp;</span> <span style='color:#5882FA;font-size:1.1em;white-space: normal;font-family:verdana;display: inline-block;line-height:30px'>plant&nbsp;</span> <span style='color:#5882FA;font-size:1.1em;white-space: normal;font-family:verdana;display: inline-block;line-height:30px'>reported&nbsp;</span> <span style='color:#00b4ff;font-size:0.8em;white-space: normal;font-family:verdana;display: inline-block;line-height:30px'>start&nbsp;</span> <span style='color:#00b4ff;font-size:0.8em;white-space: normal;font-family:verdana;display: inline-block;line-height:30px'>united&nbsp;</span> <span style='color:#8000FF;font-size:1.5499999999999998em;white-space: normal;font-family:verdana;display: inline-block;line-height:30px'>good&nbsp;</span> <span style='color:#8000FF;font-size:1.5499999999999998em;white-space: normal;font-family:verdana;display: inline-block;line-height:30px'>rainfall&nbsp;</span> <span style='color:#8000FF;font-size:1.5499999999999998em;white-space: normal;font-family:verdana;display: inline-block;line-height:30px'>europe&nbsp;</span> <span style='color:#00b4ff;font-size:0.8em;white-space: normal;font-family:verdana;display: inline-block;line-height:30px'>sweden&nbsp;</span> <span style='color:#5882FA;font-size:1.1em;white-space: normal;font-family:verdana;display: inline-block;line-height:30px'>eastern&nbsp;</span> <span style='color:#5882FA;font-size:1.1em;white-space: normal;font-family:verdana;display: inline-block;line-height:30px'>crop&nbsp;</span> <span style='color:#5882FA;font-size:1.1em;white-space: normal;font-family:verdana;display: inline-block;line-height:30px'>soviet&nbsp;</span> <span style='color:#5882FA;font-size:1.1em;white-space: normal;font-family:verdana;display: inline-block;line-height:30px'>field&nbsp;</span> <span style='color:#00b4ff;font-size:0.8em;white-space: normal;font-family:verdana;display: inline-block;line-height:30px'>year&nbsp;</span> <span style='color:#00b4ff;font-size:0.8em;white-space: normal;font-family:verdana;display: inline-block;line-height:30px'>statistician&nbsp;</span> <span style='color:#ACB02E;font-size:2.1499999999999995em;white-space: normal;font-family:verdana;display: inline-block;line-height:30px'>weather&nbsp;</span> <span style='color:#00b4ff;font-size:0.8em;white-space: normal;font-family:verdana;display: inline-block;line-height:30px'>south&nbsp;</span> <span style='color:#00b4ff;font-size:0.8em;white-space: normal;font-family:verdana;display: inline-block;line-height:30px'>west&nbsp;</span> <span style='color:#5882FA;font-size:1.1em;white-space: normal;font-family:verdana;display: inline-block;line-height:30px'>delayed&nbsp;</span> <span style='color:#5882FA;font-size:1.1em;white-space: normal;font-family:verdana;display: inline-block;line-height:30px'>rain&nbsp;</span> <span style='color:#00b4ff;font-size:0.8em;white-space: normal;font-family:verdana;display: inline-block;line-height:30px'>trouble&nbsp;</span> <span style='color:#00b4ff;font-size:0.8em;white-space: normal;font-family:verdana;display: inline-block;line-height:30px'>slowed&nbsp;</span> <span style='color:#FF0080;font-size:1.25em;white-space: normal;font-family:verdana;display: inline-block;line-height:30px'>heavy&nbsp;</span> <span style='color:#00b4ff;font-size:0.8em;white-space: normal;font-family:verdana;display: inline-block;line-height:30px'>temperatures&nbsp;</span> <span style='color:#5882FA;font-size:1.1em;white-space: normal;font-family:verdana;display: inline-block;line-height:30px'>continued&nbsp;</span> <span style='color:#5882FA;font-size:1.1em;white-space: normal;font-family:verdana;display: inline-block;line-height:30px'>wet&nbsp;</span> <span style='color:#FF0080;font-size:1.25em;white-space: normal;font-family:verdana;display: inline-block;line-height:30px'>licht&nbsp;</span> <span style='color:#00b4ff;font-size:0.8em;white-space: normal;font-family:verdana;display: inline-block;line-height:30px'>southern&nbsp;</span> <span style='color:#04B404;font-size:3.4999999999999987em;white-space: normal;font-family:verdana;display: inline-block;line-height:30px'>beet&nbsp;</span> <span style='color:#5882FA;font-size:1.1em;white-space: normal;font-family:verdana;display: inline-block;line-height:30px'>cold&nbsp;</span> <span style='color:#00b4ff;font-size:0.8em;white-space: normal;font-family:verdana;display: inline-block;line-height:30px'>western&nbsp;</span></div></div>"
            ],
            "text/plain": [
              "<IPython.core.display.HTML object>"
            ]
          },
          "metadata": {
            "tags": []
          },
          "execution_count": 9
        }
      ]
    },
    {
      "cell_type": "code",
      "metadata": {
        "id": "Wro2Q06NgwaC",
        "colab_type": "code",
        "outputId": "8da93895-a55c-468f-ee31-4a715ccdae88",
        "colab": {
          "base_uri": "https://localhost:8080/",
          "height": 269
        }
      },
      "source": [
        "# And generate a Word Cloud from the first 100 records\n",
        "\n",
        "list_of_documents=[]\n",
        " \n",
        "#use raw content from a 100 documents\n",
        "for i in range (100):\n",
        "    document_id = category_docs[i]\n",
        "    list_of_documents.append(reuters.raw(document_id)) \n",
        "    \n",
        "embed_code=wc.get_embed_code(text=list_of_documents,random_color=True,topn=50)\n",
        "\n",
        "HTML(embed_code)"
      ],
      "execution_count": 7,
      "outputs": [
        {
          "output_type": "execute_result",
          "data": {
            "text/html": [
              "<div align='center' style='width:100%'><div align='center' style='text-align:justify; border-radius: 25px;background: #fff7f7;overflow: auto; width:500px !important; padding:20px; '; text-align: center; word-wrap: break-word;> <span style='color:#DBA901;font-size:0.8em;white-space: normal;font-family:verdana;display: inline-block;line-height:30px'>producers&nbsp;</span> <span style='color:#5F6A6A;font-size:0.9500000000000001em;white-space: normal;font-family:verdana;display: inline-block;line-height:30px'>intervention&nbsp;</span> <span style='color:#DBA901;font-size:0.8em;white-space: normal;font-family:verdana;display: inline-block;line-height:30px'>cargoes&nbsp;</span> <span style='color:#DBA901;font-size:0.8em;white-space: normal;font-family:verdana;display: inline-block;line-height:30px'>commission&nbsp;</span> <span style='color:#DBA901;font-size:0.8em;white-space: normal;font-family:verdana;display: inline-block;line-height:30px'>london&nbsp;</span> <span style='color:#008080;font-size:1.4em;white-space: normal;font-family:verdana;display: inline-block;line-height:30px'>mln&nbsp;</span> <span style='color:#2ECC71;font-size:1.25em;white-space: normal;font-family:verdana;display: inline-block;line-height:30px'>year&nbsp;</span> <span style='color:#5F6A6A;font-size:0.9500000000000001em;white-space: normal;font-family:verdana;display: inline-block;line-height:30px'>price&nbsp;</span> <span style='color:#DBA901;font-size:0.8em;white-space: normal;font-family:verdana;display: inline-block;line-height:30px'>farm&nbsp;</span> <span style='color:#DBA901;font-size:0.8em;white-space: normal;font-family:verdana;display: inline-block;line-height:30px'>china&nbsp;</span> <span style='color:#DBA901;font-size:0.8em;white-space: normal;font-family:verdana;display: inline-block;line-height:30px'>good&nbsp;</span> <span style='color:#0489B1;font-size:1.1em;white-space: normal;font-family:verdana;display: inline-block;line-height:30px'>dlrs&nbsp;</span> <span style='color:#DBA901;font-size:0.8em;white-space: normal;font-family:verdana;display: inline-block;line-height:30px'>commodity&nbsp;</span> <span style='color:#5F6A6A;font-size:0.9500000000000001em;white-space: normal;font-family:verdana;display: inline-block;line-height:30px'>white&nbsp;</span> <span style='color:#DBA901;font-size:0.8em;white-space: normal;font-family:verdana;display: inline-block;line-height:30px'>10&nbsp;</span> <span style='color:#DBA901;font-size:0.8em;white-space: normal;font-family:verdana;display: inline-block;line-height:30px'>new&nbsp;</span> <span style='color:#DBA901;font-size:0.8em;white-space: normal;font-family:verdana;display: inline-block;line-height:30px'>european&nbsp;</span> <span style='color:#3498DB;font-size:3.4999999999999987em;white-space: normal;font-family:verdana;display: inline-block;line-height:30px'>sugar&nbsp;</span> <span style='color:#DBA901;font-size:0.8em;white-space: normal;font-family:verdana;display: inline-block;line-height:30px'>farmers&nbsp;</span> <span style='color:#DBA901;font-size:0.8em;white-space: normal;font-family:verdana;display: inline-block;line-height:30px'>nil&nbsp;</span> <span style='color:#DBA901;font-size:0.8em;white-space: normal;font-family:verdana;display: inline-block;line-height:30px'>added&nbsp;</span> <span style='color:#5F6A6A;font-size:0.9500000000000001em;white-space: normal;font-family:verdana;display: inline-block;line-height:30px'>beet&nbsp;</span> <span style='color:#003366;font-size:1.9999999999999996em;white-space: normal;font-family:verdana;display: inline-block;line-height:30px'>tonnes&nbsp;</span> <span style='color:#5F6A6A;font-size:0.9500000000000001em;white-space: normal;font-family:verdana;display: inline-block;line-height:30px'>week&nbsp;</span> <span style='color:#5F6A6A;font-size:0.9500000000000001em;white-space: normal;font-family:verdana;display: inline-block;line-height:30px'>world&nbsp;</span> <span style='color:#5F6A6A;font-size:0.9500000000000001em;white-space: normal;font-family:verdana;display: inline-block;line-height:30px'>prices&nbsp;</span> <span style='color:#0489B1;font-size:1.1em;white-space: normal;font-family:verdana;display: inline-block;line-height:30px'>trade&nbsp;</span> <span style='color:#DBA901;font-size:0.8em;white-space: normal;font-family:verdana;display: inline-block;line-height:30px'>raw&nbsp;</span> <span style='color:#5F6A6A;font-size:0.9500000000000001em;white-space: normal;font-family:verdana;display: inline-block;line-height:30px'>1986&nbsp;</span> <span style='color:#DBA901;font-size:0.8em;white-space: normal;font-family:verdana;display: inline-block;line-height:30px'>imports&nbsp;</span> <span style='color:#DBA901;font-size:0.8em;white-space: normal;font-family:verdana;display: inline-block;line-height:30px'>quota&nbsp;</span> <span style='color:#5F6A6A;font-size:0.9500000000000001em;white-space: normal;font-family:verdana;display: inline-block;line-height:30px'>crop&nbsp;</span> <span style='color:#DBA901;font-size:0.8em;white-space: normal;font-family:verdana;display: inline-block;line-height:30px'>today&nbsp;</span> <span style='color:#DBA901;font-size:0.8em;white-space: normal;font-family:verdana;display: inline-block;line-height:30px'>april&nbsp;</span> <span style='color:#5F6A6A;font-size:0.9500000000000001em;white-space: normal;font-family:verdana;display: inline-block;line-height:30px'>cane&nbsp;</span> <span style='color:#DBA901;font-size:0.8em;white-space: normal;font-family:verdana;display: inline-block;line-height:30px'>government&nbsp;</span> <span style='color:#5F6A6A;font-size:0.9500000000000001em;white-space: normal;font-family:verdana;display: inline-block;line-height:30px'>1987&nbsp;</span> <span style='color:#DBA901;font-size:0.8em;white-space: normal;font-family:verdana;display: inline-block;line-height:30px'>output&nbsp;</span> <span style='color:#5882FA;font-size:1.8499999999999996em;white-space: normal;font-family:verdana;display: inline-block;line-height:30px'>000&nbsp;</span> <span style='color:#DBA901;font-size:0.8em;white-space: normal;font-family:verdana;display: inline-block;line-height:30px'>ecus&nbsp;</span> <span style='color:#5F6A6A;font-size:0.9500000000000001em;white-space: normal;font-family:verdana;display: inline-block;line-height:30px'>export&nbsp;</span> <span style='color:#0489B1;font-size:1.1em;white-space: normal;font-family:verdana;display: inline-block;line-height:30px'>production&nbsp;</span> <span style='color:#DBA901;font-size:0.8em;white-space: normal;font-family:verdana;display: inline-block;line-height:30px'>tender&nbsp;</span> <span style='color:#0489B1;font-size:1.1em;white-space: normal;font-family:verdana;display: inline-block;line-height:30px'>ec&nbsp;</span> <span style='color:#5F6A6A;font-size:0.9500000000000001em;white-space: normal;font-family:verdana;display: inline-block;line-height:30px'>pct&nbsp;</span> <span style='color:#DBA901;font-size:0.8em;white-space: normal;font-family:verdana;display: inline-block;line-height:30px'>import&nbsp;</span> <span style='color:#5F6A6A;font-size:0.9500000000000001em;white-space: normal;font-family:verdana;display: inline-block;line-height:30px'>100&nbsp;</span> <span style='color:#5F6A6A;font-size:0.9500000000000001em;white-space: normal;font-family:verdana;display: inline-block;line-height:30px'>market&nbsp;</span> <span style='color:#0489B1;font-size:1.1em;white-space: normal;font-family:verdana;display: inline-block;line-height:30px'>traders&nbsp;</span> <span style='color:#DBA901;font-size:0.8em;white-space: normal;font-family:verdana;display: inline-block;line-height:30px'>500&nbsp;</span></div></div>"
            ],
            "text/plain": [
              "<IPython.core.display.HTML object>"
            ]
          },
          "metadata": {
            "tags": []
          },
          "execution_count": 7
        }
      ]
    },
    {
      "cell_type": "code",
      "metadata": {
        "id": "Sr9NjVXrgwaQ",
        "colab_type": "code",
        "colab": {}
      },
      "source": [
        ""
      ],
      "execution_count": 0,
      "outputs": []
    }
  ]
}